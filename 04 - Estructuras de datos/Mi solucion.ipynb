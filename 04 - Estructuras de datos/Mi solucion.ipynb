{
 "cells": [
  {
   "attachments": {},
   "cell_type": "markdown",
   "metadata": {},
   "source": [
    "1) Crear una lista que contenga nombres de ciudades del mundo que contenga más de 5 elementos e imprimir por pantalla"
   ]
  },
  {
   "cell_type": "code",
   "execution_count": 106,
   "metadata": {},
   "outputs": [
    {
     "name": "stdout",
     "output_type": "stream",
     "text": [
      "Esta es mi primera lista en Python:\n",
      "['Caracas', 'Maracaibo', 'Roma', 'Miami', 'Estocolmo']\n"
     ]
    }
   ],
   "source": [
    "lista_ciudades = [\"Caracas\", 'Maracaibo', 'Roma', 'Miami', 'Estocolmo']\n",
    "print('Esta es mi primera lista en Python:')\n",
    "print(lista_ciudades)"
   ]
  },
  {
   "attachments": {},
   "cell_type": "markdown",
   "metadata": {},
   "source": [
    "2) Imprimir por pantalla el segundo elemento de la lista\n"
   ]
  },
  {
   "cell_type": "code",
   "execution_count": 107,
   "metadata": {},
   "outputs": [
    {
     "name": "stdout",
     "output_type": "stream",
     "text": [
      "Esta es mi primera lista en Python:\n",
      "['Caracas', 'Maracaibo', 'Roma', 'Miami', 'Estocolmo']\n"
     ]
    }
   ],
   "source": [
    "lista_ciudades = [\"Caracas\", 'Maracaibo', 'Roma', 'Miami', 'Estocolmo']\n",
    "print('Esta es mi primera lista en Python:')\n",
    "print(lista_ciudades)"
   ]
  },
  {
   "cell_type": "code",
   "execution_count": 108,
   "metadata": {},
   "outputs": [
    {
     "data": {
      "text/plain": [
       "'Maracaibo'"
      ]
     },
     "execution_count": 108,
     "metadata": {},
     "output_type": "execute_result"
    }
   ],
   "source": [
    "lista_ciudades[1]"
   ]
  },
  {
   "attachments": {},
   "cell_type": "markdown",
   "metadata": {},
   "source": [
    "3) Imprimir por pantalla del segundo al cuarto elemento"
   ]
  },
  {
   "cell_type": "code",
   "execution_count": 109,
   "metadata": {},
   "outputs": [
    {
     "name": "stdout",
     "output_type": "stream",
     "text": [
      "Maracaibo Roma Miami Estocolmo\n"
     ]
    }
   ],
   "source": [
    "print(lista_ciudades[1], lista_ciudades[2],lista_ciudades[3],lista_ciudades[4], )"
   ]
  },
  {
   "cell_type": "code",
   "execution_count": 110,
   "metadata": {},
   "outputs": [
    {
     "data": {
      "text/plain": [
       "['Maracaibo', 'Roma', 'Miami', 'Estocolmo']"
      ]
     },
     "execution_count": 110,
     "metadata": {},
     "output_type": "execute_result"
    }
   ],
   "source": [
    "lista_ciudades[1:5]"
   ]
  },
  {
   "attachments": {},
   "cell_type": "markdown",
   "metadata": {},
   "source": [
    "4) Visualizar el tipo de dato de la lista"
   ]
  },
  {
   "cell_type": "code",
   "execution_count": 111,
   "metadata": {},
   "outputs": [
    {
     "data": {
      "text/plain": [
       "str"
      ]
     },
     "execution_count": 111,
     "metadata": {},
     "output_type": "execute_result"
    }
   ],
   "source": [
    "type(lista_ciudades[0])"
   ]
  },
  {
   "attachments": {},
   "cell_type": "markdown",
   "metadata": {},
   "source": [
    "5) Visualizar todos los elementos de la lista a partir del tercero de manera genérica, es decir, sin explicitar la posición del último elemento"
   ]
  },
  {
   "cell_type": "code",
   "execution_count": 112,
   "metadata": {},
   "outputs": [
    {
     "name": "stdout",
     "output_type": "stream",
     "text": [
      "['Miami', 'Estocolmo']\n"
     ]
    }
   ],
   "source": [
    "print(lista_ciudades[3\n",
    "                     :])"
   ]
  },
  {
   "attachments": {},
   "cell_type": "markdown",
   "metadata": {},
   "source": [
    "6) Visualizar los primeros 4 elementos de la lista"
   ]
  },
  {
   "cell_type": "code",
   "execution_count": 113,
   "metadata": {},
   "outputs": [
    {
     "name": "stdout",
     "output_type": "stream",
     "text": [
      "['Caracas', 'Maracaibo', 'Roma']\n"
     ]
    }
   ],
   "source": [
    "print(lista_ciudades[:3])"
   ]
  },
  {
   "attachments": {},
   "cell_type": "markdown",
   "metadata": {},
   "source": [
    "7) Agregar una ciudad más a la lista que ya exista y otra que no ¿Arroja algún tipo de error?"
   ]
  },
  {
   "cell_type": "code",
   "execution_count": 114,
   "metadata": {},
   "outputs": [
    {
     "name": "stdout",
     "output_type": "stream",
     "text": [
      "['Caracas', 'Maracaibo', 'Roma', 'Miami', 'Estocolmo', 'Roma']\n"
     ]
    }
   ],
   "source": [
    "lista_ciudades.append('Roma')\n",
    "print(lista_ciudades)"
   ]
  },
  {
   "cell_type": "code",
   "execution_count": 115,
   "metadata": {},
   "outputs": [
    {
     "name": "stdout",
     "output_type": "stream",
     "text": [
      "['Caracas', 'Maracaibo', 'Roma', 'Miami', 'Estocolmo', 'Roma', 'Cabimas']\n"
     ]
    }
   ],
   "source": [
    "#y otra que no ¿Arroja algún tipo de error?\n",
    "lista_ciudades.append('Cabimas')\n",
    "print(lista_ciudades)"
   ]
  },
  {
   "attachments": {},
   "cell_type": "markdown",
   "metadata": {},
   "source": [
    "8) Agregar otra ciudad, pero en la cuarta posición"
   ]
  },
  {
   "cell_type": "code",
   "execution_count": 116,
   "metadata": {},
   "outputs": [
    {
     "name": "stdout",
     "output_type": "stream",
     "text": [
      "['Caracas', 'Maracaibo', 'Roma', 'Madrid', 'Miami', 'Estocolmo', 'Roma', 'Cabimas']\n"
     ]
    }
   ],
   "source": [
    "lista_ciudades.insert(3, 'Madrid')\n",
    "print(lista_ciudades)"
   ]
  },
  {
   "attachments": {},
   "cell_type": "markdown",
   "metadata": {},
   "source": [
    "9) Concatenar otra lista a la ya creada"
   ]
  },
  {
   "cell_type": "code",
   "execution_count": 117,
   "metadata": {},
   "outputs": [
    {
     "name": "stdout",
     "output_type": "stream",
     "text": [
      "['Caracas', 'Maracaibo', 'Roma', 'Madrid', 'Miami', 'Estocolmo', 'Roma', 'Cabimas', 'Bogota', 'Quito', 'Lima', 'Santiago']\n"
     ]
    }
   ],
   "source": [
    "lista_ciudades2 = ['Bogota', 'Quito', 'Lima', 'Santiago']\n",
    "Concatenada = lista_ciudades + lista_ciudades2\n",
    "print(Concatenada)"
   ]
  },
  {
   "cell_type": "code",
   "execution_count": 118,
   "metadata": {},
   "outputs": [
    {
     "name": "stdout",
     "output_type": "stream",
     "text": [
      "['Caracas', 'Maracaibo', 'Roma', 'Madrid', 'Miami', 'Estocolmo', 'Roma', 'Cabimas', 'Bogota', 'Quito', 'Lima', 'Santiago']\n"
     ]
    }
   ],
   "source": [
    "\n",
    "lista_ciudades.extend(lista_ciudades2)\n",
    "print(lista_ciudades)"
   ]
  },
  {
   "cell_type": "code",
   "execution_count": 119,
   "metadata": {},
   "outputs": [
    {
     "name": "stdout",
     "output_type": "stream",
     "text": [
      "['Caracas', 'Maracaibo', 'Roma', 'Madrid', 'Miami', 'Estocolmo', 'Roma', 'Cabimas', 'Bogota', 'Quito', 'Lima', 'Santiago']\n"
     ]
    }
   ],
   "source": [
    "lista_extendida = []\n",
    "lista_extendida = lista_ciudades\n",
    "print(lista_extendida)"
   ]
  },
  {
   "attachments": {},
   "cell_type": "markdown",
   "metadata": {},
   "source": [
    "10) Encontrar el índice de la ciudad que en el punto 7 agregamos duplicada. ¿Se nota alguna particularidad?"
   ]
  },
  {
   "cell_type": "code",
   "execution_count": 120,
   "metadata": {},
   "outputs": [
    {
     "name": "stdout",
     "output_type": "stream",
     "text": [
      "2\n"
     ]
    }
   ],
   "source": [
    "print(lista_extendida.index('Roma'))"
   ]
  },
  {
   "attachments": {},
   "cell_type": "markdown",
   "metadata": {},
   "source": [
    "11) ¿Qué pasa si se busca un elemento que no existe?"
   ]
  },
  {
   "cell_type": "code",
   "execution_count": 121,
   "metadata": {},
   "outputs": [
    {
     "data": {
      "text/plain": [
       "False"
      ]
     },
     "execution_count": 121,
     "metadata": {},
     "output_type": "execute_result"
    }
   ],
   "source": [
    "'Paris' in lista_extendida"
   ]
  },
  {
   "cell_type": "code",
   "execution_count": null,
   "metadata": {},
   "outputs": [],
   "source": []
  },
  {
   "attachments": {},
   "cell_type": "markdown",
   "metadata": {},
   "source": [
    "12) Eliminar un elemento de la lista"
   ]
  },
  {
   "cell_type": "code",
   "execution_count": 122,
   "metadata": {},
   "outputs": [
    {
     "name": "stdout",
     "output_type": "stream",
     "text": [
      "['Maracaibo', 'Roma', 'Madrid', 'Miami', 'Estocolmo', 'Roma', 'Cabimas', 'Bogota', 'Quito', 'Lima', 'Santiago']\n"
     ]
    }
   ],
   "source": [
    "lista_extendida.remove('Caracas')\n",
    "print(lista_extendida)"
   ]
  },
  {
   "cell_type": "code",
   "execution_count": 123,
   "metadata": {},
   "outputs": [
    {
     "name": "stdout",
     "output_type": "stream",
     "text": [
      "['Maracaibo', 'Roma', 'Madrid', 'Miami', 'Roma', 'Cabimas', 'Bogota', 'Quito', 'Lima', 'Santiago']\n"
     ]
    }
   ],
   "source": [
    "lista_extendida.remove('Estocolmo')\n",
    "print(lista_extendida)"
   ]
  },
  {
   "attachments": {},
   "cell_type": "markdown",
   "metadata": {},
   "source": [
    "13) ¿Qué pasa si el elemento a eliminar no existe?"
   ]
  },
  {
   "cell_type": "code",
   "execution_count": 124,
   "metadata": {},
   "outputs": [
    {
     "ename": "ValueError",
     "evalue": "list.remove(x): x not in list",
     "output_type": "error",
     "traceback": [
      "\u001b[1;31m---------------------------------------------------------------------------\u001b[0m",
      "\u001b[1;31mValueError\u001b[0m                                Traceback (most recent call last)",
      "Cell \u001b[1;32mIn[124], line 1\u001b[0m\n\u001b[1;32m----> 1\u001b[0m lista_extendida\u001b[39m.\u001b[39;49mremove(\u001b[39m'\u001b[39;49m\u001b[39mMachiques\u001b[39;49m\u001b[39m'\u001b[39;49m)\n",
      "\u001b[1;31mValueError\u001b[0m: list.remove(x): x not in list"
     ]
    }
   ],
   "source": [
    "lista_extendida.remove('Machiques')"
   ]
  },
  {
   "attachments": {},
   "cell_type": "markdown",
   "metadata": {},
   "source": [
    "O sea da un error"
   ]
  },
  {
   "attachments": {},
   "cell_type": "markdown",
   "metadata": {},
   "source": [
    "14) Extraer el úlimo elemento de la lista, guardarlo en una variable e imprimirlo\n"
   ]
  },
  {
   "cell_type": "code",
   "execution_count": null,
   "metadata": {},
   "outputs": [
    {
     "name": "stdout",
     "output_type": "stream",
     "text": [
      "Santiago\n"
     ]
    }
   ],
   "source": [
    "\n",
    "Lista_ultimo = lista_extendida.pop()\n",
    "print(Lista_ultimo)"
   ]
  },
  {
   "attachments": {},
   "cell_type": "markdown",
   "metadata": {},
   "source": [
    "\n",
    "15) Mostrar la lista multiplicada por 4"
   ]
  },
  {
   "cell_type": "code",
   "execution_count": null,
   "metadata": {},
   "outputs": [
    {
     "name": "stdout",
     "output_type": "stream",
     "text": [
      "['Maracaibo', 'Roma', 'Madrid', 'Miami', 'Roma', 'Cabimas', 'Bogota', 'Quito', 'Lima', 'Maracaibo', 'Roma', 'Madrid', 'Miami', 'Roma', 'Cabimas', 'Bogota', 'Quito', 'Lima', 'Maracaibo', 'Roma', 'Madrid', 'Miami', 'Roma', 'Cabimas', 'Bogota', 'Quito', 'Lima', 'Maracaibo', 'Roma', 'Madrid', 'Miami', 'Roma', 'Cabimas', 'Bogota', 'Quito', 'Lima']\n"
     ]
    }
   ],
   "source": [
    "print(lista_ciudades*4)"
   ]
  },
  {
   "attachments": {},
   "cell_type": "markdown",
   "metadata": {},
   "source": [
    "16) Crear una tupla que contenga los números enteros del 1 al 20"
   ]
  },
  {
   "cell_type": "code",
   "execution_count": null,
   "metadata": {},
   "outputs": [
    {
     "name": "stdout",
     "output_type": "stream",
     "text": [
      "[1, 2, 3, 4, 5, 6, 7, 8, 9, 10, 11, 12, 13, 14, 15, 16, 17, 18, 19, 20]\n"
     ]
    }
   ],
   "source": [
    "Tupla = [1, 2, 3, 4, 5, 6, 7, 8, 9, 10, 11, 12, 13, 14, 15, 16, 17, 18, 19, 20]\n",
    "print(Tupla)"
   ]
  },
  {
   "attachments": {},
   "cell_type": "markdown",
   "metadata": {},
   "source": [
    "17) Imprimir desde el índice 10 al 15 de la tupla"
   ]
  },
  {
   "cell_type": "code",
   "execution_count": null,
   "metadata": {},
   "outputs": [
    {
     "name": "stdout",
     "output_type": "stream",
     "text": [
      "[11, 12, 13, 14, 15, 16]\n"
     ]
    }
   ],
   "source": [
    "print(Tupla[10:16])#El ultimo índice no se imprime"
   ]
  },
  {
   "attachments": {},
   "cell_type": "markdown",
   "metadata": {},
   "source": [
    "18) Evaluar si los números 20 y 30 están dentro de la tupla"
   ]
  },
  {
   "cell_type": "code",
   "execution_count": null,
   "metadata": {},
   "outputs": [
    {
     "data": {
      "text/plain": [
       "True"
      ]
     },
     "execution_count": 76,
     "metadata": {},
     "output_type": "execute_result"
    }
   ],
   "source": [
    "#Se utiliza el comando - in -\n",
    "20 in Tupla"
   ]
  },
  {
   "cell_type": "code",
   "execution_count": null,
   "metadata": {},
   "outputs": [
    {
     "data": {
      "text/plain": [
       "False"
      ]
     },
     "execution_count": 77,
     "metadata": {},
     "output_type": "execute_result"
    }
   ],
   "source": [
    "30 in Tupla"
   ]
  },
  {
   "attachments": {},
   "cell_type": "markdown",
   "metadata": {},
   "source": [
    "19) Con la lista creada en el punto 1, validar la existencia del elemento 'París' y si no existe, agregarlo. Utilizar una variable e informar lo sucedido."
   ]
  },
  {
   "cell_type": "code",
   "execution_count": null,
   "metadata": {},
   "outputs": [
    {
     "name": "stdout",
     "output_type": "stream",
     "text": [
      "False\n",
      "['Maracaibo', 'Roma', 'Madrid', 'Miami', 'Roma', 'Cabimas', 'Bogota', 'Quito', 'Lima', 'Paris']\n"
     ]
    }
   ],
   "source": [
    "Si_esta = True\n",
    "\n",
    "Si_esta = 'Paris' in lista_ciudades\n",
    "if Si_esta == False:\n",
    "    print(Si_esta)\n",
    "    lista_ciudades.append('Paris')\n",
    "    print(lista_ciudades)"
   ]
  },
  {
   "attachments": {},
   "cell_type": "markdown",
   "metadata": {},
   "source": [
    "20) Mostrar la cantidad de veces que se encuentra un elemento específico dentro de la tupla y de la lista"
   ]
  },
  {
   "cell_type": "code",
   "execution_count": null,
   "metadata": {},
   "outputs": [
    {
     "name": "stdout",
     "output_type": "stream",
     "text": [
      "1\n"
     ]
    }
   ],
   "source": [
    "Cuantas_veces = Tupla.count(10)\n",
    "print(Cuantas_veces)\n"
   ]
  },
  {
   "cell_type": "code",
   "execution_count": null,
   "metadata": {},
   "outputs": [
    {
     "name": "stdout",
     "output_type": "stream",
     "text": [
      "2\n"
     ]
    }
   ],
   "source": [
    "Cuantas_veces_lista = lista_extendida.count('Roma')\n",
    "print(Cuantas_veces_lista)"
   ]
  },
  {
   "attachments": {},
   "cell_type": "markdown",
   "metadata": {},
   "source": [
    "21) Convertir la tupla en una lista"
   ]
  },
  {
   "cell_type": "code",
   "execution_count": null,
   "metadata": {},
   "outputs": [
    {
     "name": "stdout",
     "output_type": "stream",
     "text": [
      "[1, 2, 3, 4, 5, 6, 7, 8, 9, 10, 11, 12, 13, 14, 15, 16, 17, 18, 19, 20]\n"
     ]
    }
   ],
   "source": [
    "lista_tupla = list(Tupla)\n",
    "print(lista_tupla)\n"
   ]
  },
  {
   "attachments": {},
   "cell_type": "markdown",
   "metadata": {},
   "source": [
    "22) Desempaquetar solo los primeros 3 elementos de la tupla en 3 variables"
   ]
  },
  {
   "cell_type": "code",
   "execution_count": null,
   "metadata": {},
   "outputs": [
    {
     "name": "stdout",
     "output_type": "stream",
     "text": [
      "(1, 2, 3)\n",
      "x = 1\n",
      "y = 2\n",
      "z = 3\n"
     ]
    }
   ],
   "source": [
    "tupla_desempaquetada = 1, 2, 3\n",
    "print(tupla_desempaquetada)\n",
    "x = tupla_desempaquetada[0]\n",
    "y = tupla_desempaquetada[1]\n",
    "z = tupla_desempaquetada[2]\n",
    "print('x =', x,)\n",
    "print('y =', y)\n",
    "print('z =', z)\n"
   ]
  },
  {
   "attachments": {},
   "cell_type": "markdown",
   "metadata": {},
   "source": [
    "23) Crear un diccionario utilizando la lista creada en el punto 1, asignándole la clave \"ciudad\". Agregar tambien otras claves, como puede ser \"Pais\" y \"Continente\"."
   ]
  },
  {
   "attachments": {},
   "cell_type": "markdown",
   "metadata": {},
   "source": [
    "\"Caracas\", 'Maracaibo', 'Roma', 'Miami', 'Estocolmo'"
   ]
  },
  {
   "cell_type": "code",
   "execution_count": null,
   "metadata": {},
   "outputs": [
    {
     "name": "stdout",
     "output_type": "stream",
     "text": [
      "{'ciudad': [['Maracaibo', 'Roma', 'Madrid', 'Miami', 'Roma', 'Cabimas', 'Bogota', 'Quito', 'Lima', 'Paris']], 'pais': ['Venezuela', 'Italia', 'USA', 'Francia', 'otro']}\n"
     ]
    }
   ],
   "source": [
    "mi_diccionario = {'ciudad': [lista_ciudades], 'pais': ['Venezuela', 'Italia', 'USA', 'Francia', 'otro']}\n",
    "print(mi_diccionario)"
   ]
  },
  {
   "attachments": {},
   "cell_type": "markdown",
   "metadata": {},
   "source": [
    "24) Imprimir las claves del diccionario"
   ]
  },
  {
   "cell_type": "code",
   "execution_count": null,
   "metadata": {},
   "outputs": [
    {
     "name": "stdout",
     "output_type": "stream",
     "text": [
      "dict_keys(['ciudad', 'pais'])\n"
     ]
    }
   ],
   "source": [
    "print(mi_diccionario.keys())"
   ]
  },
  {
   "attachments": {},
   "cell_type": "markdown",
   "metadata": {},
   "source": [
    "25) Imprimir las ciudades a través de su clave"
   ]
  },
  {
   "cell_type": "code",
   "execution_count": null,
   "metadata": {},
   "outputs": [
    {
     "name": "stdout",
     "output_type": "stream",
     "text": [
      "[['Maracaibo', 'Roma', 'Madrid', 'Miami', 'Roma', 'Cabimas', 'Bogota', 'Quito', 'Lima', 'Paris']]\n",
      "['Venezuela', 'Italia', 'USA', 'Francia', 'otro']\n"
     ]
    }
   ],
   "source": [
    "print(mi_diccionario['ciudad'])\n",
    "print(mi_diccionario['pais'])"
   ]
  }
 ],
 "metadata": {
  "kernelspec": {
   "display_name": "Python 3",
   "language": "python",
   "name": "python3"
  },
  "language_info": {
   "codemirror_mode": {
    "name": "ipython",
    "version": 3
   },
   "file_extension": ".py",
   "mimetype": "text/x-python",
   "name": "python",
   "nbconvert_exporter": "python",
   "pygments_lexer": "ipython3",
   "version": "3.11.2"
  },
  "orig_nbformat": 4
 },
 "nbformat": 4,
 "nbformat_minor": 2
}
