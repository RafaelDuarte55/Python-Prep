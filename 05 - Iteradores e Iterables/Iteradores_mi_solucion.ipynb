{
 "cells": [
  {
   "attachments": {},
   "cell_type": "markdown",
   "metadata": {},
   "source": [
    "1) A partir de una lista vacía, utilizar un ciclo while para cargar allí números negativos del -15 al -1\n"
   ]
  },
  {
   "cell_type": "code",
   "execution_count": 2,
   "metadata": {},
   "outputs": [
    {
     "name": "stdout",
     "output_type": "stream",
     "text": [
      "[-15, -14, -13, -12, -11, -10, -9, -8, -7, -6, -5, -4, -3, -2, -1] Numero de iteraciones = 15\n"
     ]
    }
   ],
   "source": [
    "Lista = []\n",
    "i = -1\n",
    "n = 0\n",
    "while i >= -15:\n",
    "   Lista.append(i)\n",
    "   \n",
    "   if i <= -1:\n",
    "    i -= 1\n",
    "    n += 1\n",
    "    continue\n",
    "Lista.sort()\n",
    "print(Lista, 'Numero de iteraciones =', n)\n"
   ]
  },
  {
   "attachments": {},
   "cell_type": "markdown",
   "metadata": {},
   "source": [
    "2) ¿Con un ciclo while sería posible recorrer la lista para imprimir sólo los números pares?"
   ]
  },
  {
   "cell_type": "code",
   "execution_count": 3,
   "metadata": {},
   "outputs": [
    {
     "name": "stdout",
     "output_type": "stream",
     "text": [
      "El numero -14 es par\n",
      "El numero -12 es par\n",
      "El numero -10 es par\n",
      "El numero -8 es par\n",
      "El numero -6 es par\n",
      "El numero -4 es par\n",
      "El numero -2 es par\n"
     ]
    }
   ],
   "source": [
    "#recorrer Lista con While\n",
    "n = len(Lista) \n",
    "i = 0\n",
    "while i < n: \n",
    "    if (Lista[i])%2 == 0:\n",
    "        print('El numero', Lista[i], 'es par')\n",
    "    i += 1\n",
    "        \n"
   ]
  },
  {
   "cell_type": "markdown",
   "metadata": {},
   "source": []
  },
  {
   "attachments": {},
   "cell_type": "markdown",
   "metadata": {},
   "source": [
    "3) Resolver el punto anterior sin utilizar un ciclo while"
   ]
  },
  {
   "cell_type": "code",
   "execution_count": 4,
   "metadata": {},
   "outputs": [
    {
     "name": "stdout",
     "output_type": "stream",
     "text": [
      "El numero -14 es par\n",
      "El numero -12 es par\n",
      "El numero -10 es par\n",
      "El numero -8 es par\n",
      "El numero -6 es par\n",
      "El numero -4 es par\n",
      "El numero -2 es par\n"
     ]
    }
   ],
   "source": [
    "for i in Lista:\n",
    "    if i%2 == 0:\n",
    "        print('El numero', i, 'es par')\n",
    "        "
   ]
  },
  {
   "attachments": {},
   "cell_type": "markdown",
   "metadata": {},
   "source": [
    "4) Utilizar el iterable para recorrer sólo los primeros 3 elementos"
   ]
  },
  {
   "cell_type": "code",
   "execution_count": 5,
   "metadata": {},
   "outputs": [
    {
     "name": "stdout",
     "output_type": "stream",
     "text": [
      "-15\n",
      "-14\n",
      "-13\n"
     ]
    }
   ],
   "source": [
    "\n",
    "for i in Lista[0:3]:\n",
    "        print(i)"
   ]
  },
  {
   "attachments": {},
   "cell_type": "markdown",
   "metadata": {},
   "source": [
    "5) Utilizar la función **enumerate** para obtener dentro del iterable, tambien el índice al que corresponde el elemento"
   ]
  },
  {
   "cell_type": "code",
   "execution_count": 6,
   "metadata": {},
   "outputs": [
    {
     "name": "stdout",
     "output_type": "stream",
     "text": [
      "0 -15\n",
      "1 -14\n",
      "2 -13\n",
      "3 -12\n",
      "4 -11\n",
      "5 -10\n",
      "6 -9\n",
      "7 -8\n",
      "8 -7\n",
      "9 -6\n",
      "10 -5\n",
      "11 -4\n",
      "12 -3\n",
      "13 -2\n",
      "14 -1\n"
     ]
    }
   ],
   "source": [
    "for i, e in enumerate(Lista): #No entiendo qucomo se usa enumerate, que es e?\n",
    "    print(i,e)"
   ]
  },
  {
   "attachments": {},
   "cell_type": "markdown",
   "metadata": {},
   "source": [
    "6) Dada la siguiente lista de números enteros entre 1 y 20, crear un ciclo donde se completen los valores faltantes: lista = [1,2,5,7,8,10,13,14,15,17,20]"
   ]
  },
  {
   "cell_type": "code",
   "execution_count": 7,
   "metadata": {},
   "outputs": [
    {
     "name": "stdout",
     "output_type": "stream",
     "text": [
      "[1, 2, 3, 4, 5, 6, 7, 8, 9, 10, 11, 12, 13, 14, 15, 16, 17, 18, 19, 20]\n"
     ]
    }
   ],
   "source": [
    "lista_enteros = [1,2,5,7,8,10,13,14,15,17,20]\n",
    "i = 1\n",
    "n = 1\n",
    "while i <= 20:\n",
    "    if ( n in lista_enteros):\n",
    "        n += 1\n",
    "        i += 1\n",
    "    else:\n",
    "        lista_enteros.append(n)\n",
    "        lista_enteros.sort()\n",
    "print(lista_enteros)\n",
    "\n",
    "\n",
    "\n",
    "\n",
    "\n",
    "\n"
   ]
  },
  {
   "attachments": {},
   "cell_type": "markdown",
   "metadata": {},
   "source": [
    "7) La sucesión de Fibonacci es un listado de números que sigue la fórmula: <br>\n",
    "n<sub>0</sub> = 0<br>\n",
    "n<sub>1</sub> = 1<br>\n",
    "n<sub>i</sub> = n<sub>i-1</sub> + n<sub>i-2</sub><br>\n",
    "Crear una lista con los primeros treinta números de la sucesión.<br>"
   ]
  },
  {
   "cell_type": "code",
   "execution_count": 8,
   "metadata": {},
   "outputs": [
    {
     "name": "stdout",
     "output_type": "stream",
     "text": [
      "[0, 1, 1, 2, 3, 5, 8, 13, 21, 34, 55, 89, 144, 233, 377, 610, 987, 1597, 2584, 4181, 6765, 10946, 17711, 28657, 46368, 75025, 121393, 196418, 317811, 514229]\n"
     ]
    }
   ],
   "source": [
    "max_elementos = 30\n",
    "i = 2 #i es el índice\n",
    "n = 0 #n es el numero en la serie de fibonacci\n",
    "fibo_30 = [0, 1]\n",
    "while i < max_elementos:\n",
    "    n = fibo_30[i - 1] + fibo_30[i - 2]\n",
    "    fibo_30.append(n)\n",
    "    i += 1\n",
    "print(fibo_30)    \n",
    "    \n"
   ]
  },
  {
   "cell_type": "code",
   "execution_count": 4,
   "metadata": {},
   "outputs": [
    {
     "name": "stdout",
     "output_type": "stream",
     "text": [
      "0\n",
      "1\n",
      "1\n",
      "2\n",
      "3\n",
      "5\n",
      "8\n",
      "13\n",
      "21\n",
      "34\n",
      "55\n",
      "89\n",
      "144\n",
      "233\n",
      "377\n"
     ]
    }
   ],
   "source": [
    "a = 0\n",
    "b = 1\n",
    "for i in range(15):\n",
    "    print(a)\n",
    "    c = a + b\n",
    "    a = b\n",
    "    b = c"
   ]
  },
  {
   "attachments": {},
   "cell_type": "markdown",
   "metadata": {},
   "source": [
    "8) Realizar la suma de todos elementos de la lista del punto anterior"
   ]
  },
  {
   "cell_type": "code",
   "execution_count": 10,
   "metadata": {},
   "outputs": [
    {
     "name": "stdout",
     "output_type": "stream",
     "text": [
      "1346268\n"
     ]
    }
   ],
   "source": [
    "Suma_fibo30 = sum(fibo_30)\n",
    "print(Suma_fibo30)"
   ]
  },
  {
   "cell_type": "code",
   "execution_count": 11,
   "metadata": {},
   "outputs": [
    {
     "name": "stdout",
     "output_type": "stream",
     "text": [
      "1346268\n"
     ]
    }
   ],
   "source": [
    "print(sum(fibo_30))"
   ]
  },
  {
   "attachments": {},
   "cell_type": "markdown",
   "metadata": {},
   "source": [
    "9) La proporción aurea se expresa con una proporción matemática que nace el número irracional Phi= 1,618… que los griegos llamaron número áureo. El cuál se puede aproximar con la sucesión de Fibonacci. Con la lista del ejercicio anterior, imprimir el cociente de los últimos 5 pares de dos números contiguos:<br>\n",
    "Donde i es la cantidad total de elementos<br>\n",
    "n<sub>i-1</sub> / n<sub>i</sub><br>\n",
    "n<sub>i-2</sub> / n<sub>i-1</sub><br>\n",
    "n<sub>i-3</sub> / n<sub>i-2</sub><br>\n",
    "n<sub>i-4</sub> / n<sub>i-3</sub><br>\n",
    "n<sub>i-5</sub> / n<sub>i-4</sub><br>\n",
    " \n"
   ]
  },
  {
   "attachments": {},
   "cell_type": "markdown",
   "metadata": {},
   "source": [
    "n(j)/n(j-1)\n",
    "n(j-1)/n(j-2)\n",
    "n(j-2)/n(j-3)\n"
   ]
  },
  {
   "cell_type": "code",
   "execution_count": 13,
   "metadata": {},
   "outputs": [
    {
     "name": "stdout",
     "output_type": "stream",
     "text": [
      "número superior 514229 , número inferior 317811 y el cociente es 1.6180339887543225\n",
      "número superior 317811 , número inferior 196418 y el cociente es 1.618033988738303\n",
      "número superior 196418 , número inferior 121393 y el cociente es 1.6180339887802426\n",
      "número superior 121393 , número inferior 75025 y el cociente es 1.6180339886704431\n",
      "número superior 75025 , número inferior 46368 y el cociente es 1.618033988957902\n"
     ]
    }
   ],
   "source": [
    "j = len(fibo_30)\n",
    "i = j - 1\n",
    "while i < j:\n",
    "    if i < (j -5):\n",
    "        break\n",
    "    div = fibo_30[i]/fibo_30[i - 1]\n",
    "    print('número superior', fibo_30[i],',', 'número inferior', fibo_30[i - 1], 'y el cociente es', div)\n",
    "    i -= 1\n",
    "\n"
   ]
  },
  {
   "attachments": {},
   "cell_type": "markdown",
   "metadata": {},
   "source": [
    "10) A partir de la variable cadena ya dada, mostrar en qué posiciones aparece la letra \"n\"<br>\n",
    "cadena = 'Hola Mundo. Esto es una practica del lenguaje de programación Python'"
   ]
  },
  {
   "cell_type": "code",
   "execution_count": 3,
   "metadata": {},
   "outputs": [
    {
     "name": "stdout",
     "output_type": "stream",
     "text": [
      "Posición 7: n\n",
      "Posición 21: n\n",
      "Posición 39: n\n",
      "Posición 60: n\n",
      "Posición 67: n\n"
     ]
    }
   ],
   "source": [
    "cadena = 'Hola Mundo. Esto es una practica del lenguaje de programación Python'\n",
    "for i in range(len(cadena)):\n",
    "    if cadena[i] == 'n':\n",
    "        print(f\"Posición {i}: n\")"
   ]
  },
  {
   "attachments": {},
   "cell_type": "markdown",
   "metadata": {},
   "source": [
    "11) Crear un diccionario e imprimir sus claves utilizando un iterador"
   ]
  },
  {
   "cell_type": "code",
   "execution_count": 4,
   "metadata": {},
   "outputs": [
    {
     "name": "stdout",
     "output_type": "stream",
     "text": [
      "marca\n",
      "Modelo\n",
      "Año\n"
     ]
    }
   ],
   "source": [
    "diccionario = {'marca': 'Honda', 'Modelo': 'CR-V', 'Año': 2020}\n",
    "mi_iter = iter(diccionario)\n",
    "print(next(mi_iter)) #Por lo que se ve iter__next, itera las keys (claves) solamente \n",
    "print(next(mi_iter))\n",
    "print(next(mi_iter))"
   ]
  }
 ],
 "metadata": {
  "kernelspec": {
   "display_name": "Python 3",
   "language": "python",
   "name": "python3"
  },
  "language_info": {
   "codemirror_mode": {
    "name": "ipython",
    "version": 3
   },
   "file_extension": ".py",
   "mimetype": "text/x-python",
   "name": "python",
   "nbconvert_exporter": "python",
   "pygments_lexer": "ipython3",
   "version": "3.11.2"
  },
  "orig_nbformat": 4,
  "vscode": {
   "interpreter": {
    "hash": "7519e0a736491999a9bda26845ebb6d6409d5bfff2f81d263197bf0e178a9170"
   }
  }
 },
 "nbformat": 4,
 "nbformat_minor": 2
}
