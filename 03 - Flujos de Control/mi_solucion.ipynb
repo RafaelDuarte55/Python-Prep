{
 "cells": [
  {
   "attachments": {},
   "cell_type": "markdown",
   "metadata": {},
   "source": [
    "1) Crear una variable que contenga un elemento del conjunto de números enteros y luego imprimir por pantalla si es mayor o menor a cero"
   ]
  },
  {
   "cell_type": "code",
   "execution_count": 11,
   "metadata": {},
   "outputs": [
    {
     "name": "stdout",
     "output_type": "stream",
     "text": [
      "La variable es mayor que cero\n"
     ]
    }
   ],
   "source": [
    "var = 8\n",
    "if (var < 0):\n",
    "    print('La variable es menor que cero')\n",
    "elif(var > 0):\n",
    "    print('La variable es mayor que cero')\n",
    "else:\n",
    "    print('La variable es igual a cero')"
   ]
  },
  {
   "attachments": {},
   "cell_type": "markdown",
   "metadata": {},
   "source": [
    "2) Crear dos variables y un condicional que informe si son del mismo tipo de dato"
   ]
  },
  {
   "cell_type": "code",
   "execution_count": 2,
   "metadata": {},
   "outputs": [
    {
     "name": "stdout",
     "output_type": "stream",
     "text": [
      "Las variables no son del mismo tipo\n"
     ]
    }
   ],
   "source": [
    "a = 8.5\n",
    "b = 6\n",
    "if (type(a) == type(b)):\n",
    "    print('Las variables son del mismo tipo de dato')\n",
    "if(type(a) != type(b)):\n",
    "    print('Las variables no son del mismo tipo')\n",
    "    "
   ]
  },
  {
   "attachments": {},
   "cell_type": "markdown",
   "metadata": {},
   "source": [
    "3) Para los valores enteros del 1 al 20, imprimir por pantalla si es par o impar"
   ]
  },
  {
   "cell_type": "code",
   "execution_count": null,
   "metadata": {},
   "outputs": [],
   "source": [
    "i = 1\n",
    "while i <= 20:\n",
    "    if(i % 2) == 0:\n",
    "        print('El numero', i ,'es par')\n",
    "    else:\n",
    "        print('El numero', i ,'es impar')\n",
    "    i = i + 1\n",
    "\n"
   ]
  },
  {
   "cell_type": "code",
   "execution_count": null,
   "metadata": {},
   "outputs": [],
   "source": []
  },
  {
   "attachments": {},
   "cell_type": "markdown",
   "metadata": {},
   "source": [
    "4) En un ciclo for mostrar para los valores entre 0 y 5 el resultado de elevarlo a la potencia igual a 3\n"
   ]
  },
  {
   "cell_type": "code",
   "execution_count": 9,
   "metadata": {},
   "outputs": [
    {
     "name": "stdout",
     "output_type": "stream",
     "text": [
      "El número 0 elevado a la 3 es 0\n",
      "El número 1 elevado a la 3 es 1\n",
      "El número 2 elevado a la 3 es 8\n",
      "El número 3 elevado a la 3 es 27\n",
      "El número 4 elevado a la 3 es 64\n",
      "El número 5 elevado a la 3 es 125\n"
     ]
    }
   ],
   "source": [
    "for x in range(0, 6):\n",
    "    print('El número', x, 'elevado a la 3 es', (x**3)) "
   ]
  },
  {
   "attachments": {},
   "cell_type": "markdown",
   "metadata": {},
   "source": [
    "5) Crear una variable que contenga un número entero y realizar un ciclo for la misma cantidad de ciclos"
   ]
  },
  {
   "cell_type": "code",
   "execution_count": 3,
   "metadata": {},
   "outputs": [],
   "source": [
    "n = 20\n",
    "j = 1\n",
    "for x in  range(j, n):\n",
    "    continue\n"
   ]
  },
  {
   "attachments": {},
   "cell_type": "markdown",
   "metadata": {},
   "source": [
    "6) Utilizar un ciclo while para realizar el factorial de un número guardado en una variable, sólo si la variable contiene un número entero mayor a 0\n"
   ]
  },
  {
   "cell_type": "code",
   "execution_count": 19,
   "metadata": {},
   "outputs": [
    {
     "name": "stdout",
     "output_type": "stream",
     "text": [
      "El factorial de  5 es 120\n"
     ]
    }
   ],
   "source": [
    "numero = 5\n",
    "Final = numero\n",
    "factorial = 1\n",
    "x = 1\n",
    "while x <= (numero - 1):\n",
    "   x = x +1\n",
    "   factorial = factorial * x\n",
    "   if x == numero:\n",
    "      print('El factorial de ', Final,'es',factorial)"
   ]
  },
  {
   "attachments": {},
   "cell_type": "markdown",
   "metadata": {},
   "source": [
    "7) Crear un ciclo for dentro de un ciclo while\n"
   ]
  },
  {
   "cell_type": "code",
   "execution_count": null,
   "metadata": {},
   "outputs": [],
   "source": [
    "n = 0\n",
    "while(n < 5):\n",
    "    for i in range(1,n):\n",
    "        print('Ciclo while #' + str(n))\n",
    "        print('Ciclo for #' + str(i))\n",
    "    n = n + 1\n"
   ]
  },
  {
   "cell_type": "markdown",
   "metadata": {},
   "source": []
  },
  {
   "attachments": {},
   "cell_type": "markdown",
   "metadata": {},
   "source": [
    "8) Crear un ciclo while dentro de un ciclo for\n"
   ]
  },
  {
   "cell_type": "code",
   "execution_count": null,
   "metadata": {},
   "outputs": [],
   "source": [
    "n = 8\n",
    "j = 1\n",
    "for i in range(1, n):\n",
    "        while j < n:\n",
    "            print('Ciclo for #', i)\n",
    "            print('Ciclo while #', j)\n",
    "            j = j - 1"
   ]
  },
  {
   "attachments": {},
   "cell_type": "markdown",
   "metadata": {},
   "source": [
    "9) Imprimir los números primos existentes entre 0 y 30"
   ]
  },
  {
   "cell_type": "code",
   "execution_count": 29,
   "metadata": {},
   "outputs": [
    {
     "name": "stdout",
     "output_type": "stream",
     "text": [
      "2 es numero primo\n",
      "3 es numero primo\n",
      "5 es numero primo\n",
      "7 es numero primo\n",
      "11 es numero primo\n",
      "13 es numero primo\n",
      "17 es numero primo\n",
      "19 es numero primo\n",
      "23 es numero primo\n",
      "29 es numero primo\n",
      "Ciclos sin break 406\n"
     ]
    }
   ],
   "source": [
    "ciclos_sin_break = 0\n",
    "tope = 30\n",
    "n = 2\n",
    "es_primo = True\n",
    "\n",
    "while (n < (tope +1)):\n",
    "    for i in range(2, n):\n",
    "        ciclos_sin_break += 1\n",
    "        if (n%i == 0):\n",
    "            es_primo = False\n",
    "    if(es_primo):    \n",
    "        print(n, 'es numero primo')\n",
    "    else:\n",
    "        es_primo = True\n",
    "    n += 1\n",
    "        \n",
    "print('Ciclos sin break', ciclos_sin_break)\n",
    "            \n",
    "    "
   ]
  },
  {
   "cell_type": "code",
   "execution_count": 40,
   "metadata": {},
   "outputs": [
    {
     "name": "stdout",
     "output_type": "stream",
     "text": [
      "2 es numero primo\n",
      "3 es numero primo\n",
      "5 es numero primo\n",
      "7 es numero primo\n",
      "11 es numero primo\n",
      "13 es numero primo\n",
      "17 es numero primo\n",
      "19 es numero primo\n",
      "23 es numero primo\n",
      "29 es numero primo\n",
      "Ciclos con break 19\n"
     ]
    }
   ],
   "source": [
    "ciclos_con_break = 0\n",
    "tope = 30\n",
    "n = 2\n",
    "es_primo = True\n",
    "\n",
    "while (n < (tope +1)):\n",
    "    for i in range(2, n):\n",
    "        if (n%i == 0):\n",
    "            ciclos_con_break += 1\n",
    "            es_primo = False\n",
    "            break\n",
    "    if(es_primo):    \n",
    "        print(n, 'es numero primo')\n",
    "    else:\n",
    "        es_primo = True\n",
    "    n += 1\n",
    "        \n",
    "print('Ciclos con break', ciclos_con_break)    \n",
    "    "
   ]
  },
  {
   "cell_type": "code",
   "execution_count": 17,
   "metadata": {},
   "outputs": [
    {
     "name": "stdout",
     "output_type": "stream",
     "text": [
      "2 es numero primo\n",
      "3 es numero primo\n",
      "5 es numero primo\n",
      "7 es numero primo\n",
      "11 es numero primo\n",
      "13 es numero primo\n",
      "17 es numero primo\n",
      "19 es numero primo\n",
      "23 es numero primo\n",
      "29 es numero primo\n",
      "31 es numero primo\n",
      "37 es numero primo\n",
      "41 es numero primo\n",
      "43 es numero primo\n",
      "47 es numero primo\n",
      "Ciclos con continue 108\n"
     ]
    }
   ],
   "source": [
    "ciclos_con_continue = 0\n",
    "tope = 50\n",
    "n = 2\n",
    "es_primo = True\n",
    "\n",
    "while (n < (tope +1)):\n",
    "    for i in range(2, n):\n",
    "        if (n%i == 0):\n",
    "            ciclos_con_continue += 1\n",
    "            es_primo = False\n",
    "            continue\n",
    "    if(es_primo):    \n",
    "        print(n, 'es numero primo')\n",
    "    else:\n",
    "        es_primo = True\n",
    "    n += 1\n",
    "        \n",
    "print('Ciclos con continue', ciclos_con_continue)    \n",
    "    "
   ]
  },
  {
   "attachments": {},
   "cell_type": "markdown",
   "metadata": {},
   "source": [
    "Esta es la parte central:\n",
    "        for i in range(2, n):\n",
    "                if (n%i == 0):\n",
    "                    es_primo = False\n"
   ]
  },
  {
   "attachments": {},
   "cell_type": "markdown",
   "metadata": {},
   "source": [
    "Dado un numero = n, \n",
    "n es primo  si es divisible solo entre 1 y por si mismo.\n",
    "Utilizaremos el % o resto de la división.\n",
    "Si dividimos n por cualquier numero -  a exepcion de el mismo - y el resto es cero, entonces no es primo\n",
    "6%3 = 0 "
   ]
  },
  {
   "attachments": {},
   "cell_type": "markdown",
   "metadata": {},
   "source": [
    "10) ¿Se puede mejorar el proceso del punto 9? Utilizar las sentencias break y/ó continue para tal fin"
   ]
  },
  {
   "cell_type": "code",
   "execution_count": null,
   "metadata": {},
   "outputs": [],
   "source": [
    "ciclos_con_break = 0\n",
    "tope = 50\n",
    "n = 2\n",
    "es_primo = True\n",
    "\n",
    "while (n < (tope +1)):\n",
    "    for i in range(2, n):\n",
    "        if (n%i == 0):\n",
    "            ciclos_con_break += 1\n",
    "            es_primo = False\n",
    "            break\n",
    "    if(es_primo):    \n",
    "        print(n, 'es numero primo')\n",
    "    else:\n",
    "        es_primo = True\n",
    "    n += 1\n",
    "        \n",
    "print('Ciclos con break', ciclos_con_break) \n"
   ]
  },
  {
   "cell_type": "code",
   "execution_count": null,
   "metadata": {},
   "outputs": [],
   "source": [
    "ciclos_con_continue = 0\n",
    "tope = 50\n",
    "n = 2\n",
    "es_primo = True\n",
    "\n",
    "while (n < (tope +1)):\n",
    "    for i in range(2, n):\n",
    "        if (n%i == 0):\n",
    "            ciclos_con_continue += 1\n",
    "            es_primo = False\n",
    "            continue\n",
    "    if(es_primo):    \n",
    "        print(n, 'es numero primo')\n",
    "    else:\n",
    "        es_primo = True\n",
    "    n += 1\n",
    "        \n",
    "print('Ciclos con continue', ciclos_con_continue) "
   ]
  },
  {
   "cell_type": "code",
   "execution_count": null,
   "metadata": {},
   "outputs": [],
   "source": []
  },
  {
   "attachments": {},
   "cell_type": "markdown",
   "metadata": {},
   "source": [
    "11) En los puntos 9 y 10, se diseño un código que encuentra números primos y además se lo optimizó. ¿Es posible saber en qué medida se optimizó?\n"
   ]
  },
  {
   "cell_type": "code",
   "execution_count": 31,
   "metadata": {},
   "outputs": [
    {
     "data": {
      "text/plain": [
       "4.679802955665025"
      ]
     },
     "execution_count": 31,
     "metadata": {},
     "output_type": "execute_result"
    }
   ],
   "source": [
    "#Es posible saber en que medida se optimizó?\n",
    "#se divide el numero de ciclos con break entre el numero de ciclos sin break\n",
    "(ciclos_con_break/ciclos_sin_break)*100\n",
    "#Para 30 da 0.046798029556650245\n",
    "# o sea se reduce el numero de ciclos al = 4.7%\n",
    "#Para 300 da 0.005319745909182734\n",
    "# o sea se reduce el numero de ciclos al = 0.53%"
   ]
  },
  {
   "cell_type": "markdown",
   "metadata": {},
   "source": []
  },
  {
   "attachments": {},
   "cell_type": "markdown",
   "metadata": {},
   "source": [
    "12) Si la cantidad de números que se evalúa es mayor a treinta, esa optimización crece?"
   ]
  },
  {
   "cell_type": "code",
   "execution_count": null,
   "metadata": {},
   "outputs": [],
   "source": []
  },
  {
   "attachments": {},
   "cell_type": "markdown",
   "metadata": {},
   "source": [
    "13) Aplicando continue, armar un ciclo while que solo imprima los valores divisibles por 12, dentro del rango de números de 100 a 300\n"
   ]
  },
  {
   "cell_type": "code",
   "execution_count": null,
   "metadata": {},
   "outputs": [],
   "source": [
    "n = 99\n",
    "while (n <= 300):\n",
    "    n = n + 1\n",
    "    if (n%12 == 0):\n",
    "        print(n, 'es divisible por 12')\n",
    "        continue\n",
    "\n"
   ]
  },
  {
   "cell_type": "markdown",
   "metadata": {},
   "source": [
    "\n",
    "14) Utilizar la función **input()** que permite hacer ingresos por teclado, para encontrar números primos y dar la opción al usario de buscar el siguiente"
   ]
  },
  {
   "cell_type": "code",
   "execution_count": 42,
   "metadata": {},
   "outputs": [
    {
     "name": "stdout",
     "output_type": "stream",
     "text": [
      "2 es numero primo\n",
      "3 es numero primo\n",
      "5 es numero primo\n",
      "7 es numero primo\n",
      "11 es numero primo\n",
      "13 es numero primo\n",
      "17 es numero primo\n",
      "19 es numero primo\n",
      "23 es numero primo\n",
      "29 es numero primo\n"
     ]
    }
   ],
   "source": [
    "tope=input(\"ingrese el valor de tope\")\n",
    "tope = int(tope)\n",
    "n = 2\n",
    "es_primo = True\n",
    "\n",
    "while (n < (tope +1)):\n",
    "    for i in range(2, n):\n",
    "        if (n%i == 0):\n",
    "            ciclos_con_break += 1\n",
    "            es_primo = False\n",
    "            break\n",
    "    if(es_primo):    \n",
    "        print(n, 'es numero primo')\n",
    "    else:\n",
    "        es_primo = True\n",
    "    n += 1"
   ]
  },
  {
   "attachments": {},
   "cell_type": "markdown",
   "metadata": {},
   "source": [
    "15) Crear un ciclo while que encuentre dentro del rango de 100 a 300 el primer número divisible por 3 y además múltiplo de 6"
   ]
  },
  {
   "cell_type": "code",
   "execution_count": 43,
   "metadata": {},
   "outputs": [
    {
     "name": "stdout",
     "output_type": "stream",
     "text": [
      "102 es divisible por 6\n"
     ]
    }
   ],
   "source": [
    "n = 99\n",
    "while (n <= 300):\n",
    "    n = n + 1\n",
    "    if (n%6 == 0):\n",
    "        print(n, 'es divisible por 6')\n",
    "        break\n"
   ]
  }
 ],
 "metadata": {
  "kernelspec": {
   "display_name": "Python 3",
   "language": "python",
   "name": "python3"
  },
  "language_info": {
   "codemirror_mode": {
    "name": "ipython",
    "version": 3
   },
   "file_extension": ".py",
   "mimetype": "text/x-python",
   "name": "python",
   "nbconvert_exporter": "python",
   "pygments_lexer": "ipython3",
   "version": "3.11.2"
  },
  "orig_nbformat": 4
 },
 "nbformat": 4,
 "nbformat_minor": 2
}
